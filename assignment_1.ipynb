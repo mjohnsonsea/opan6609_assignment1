{
 "cells": [
  {
   "cell_type": "markdown",
   "id": "6ce1ccc8",
   "metadata": {},
   "source": [
    "# OPAN 6609 Text Analytics\n",
    "\n",
    "**Assignment 1: Web scraping and named entity recognition**\n",
    "\n",
    "https://en.wikipedia.org/wiki/Georgetown_University\n",
    "\n",
    "Mike Johnson\n",
    "****"
   ]
  },
  {
   "cell_type": "markdown",
   "id": "6e1f81eb",
   "metadata": {},
   "source": [
    "## Set up"
   ]
  },
  {
   "cell_type": "code",
   "execution_count": 1,
   "id": "d3b325a5",
   "metadata": {},
   "outputs": [],
   "source": [
    "# Import libraries\n",
    "import requests\n",
    "from bs4 import BeautifulSoup\n",
    "import pandas as pd\n",
    "import spacy"
   ]
  },
  {
   "cell_type": "markdown",
   "id": "e5ccf745",
   "metadata": {},
   "source": [
    "## 1. Review the source code of the webpage using the inspector tool of your browser. List three types of HTML tags you found on the page and explain what elements of the page are created with those tags."
   ]
  },
  {
   "cell_type": "markdown",
   "id": "2414238a",
   "metadata": {},
   "source": [
    "| HTML Tag | Purpose | Elements Created |\n",
    "| --- | --- | --- |\n",
    "| `<head>` | Metadata Tag | Contains the metadata of the page such as title (Georgetown University), character set (UTF-8), styles, scripts and other meta information. |\n",
    "| `<p>` | Paragraph Tag | Defines the paragraph. Contains the main body of text of the article. |\n",
    "| `<a>` | Anchor/Link Tag | Defines the hyperlink. Includes links to other Wikipedia pages, external references, and citations. |\n"
   ]
  },
  {
   "cell_type": "markdown",
   "id": "e08281b9",
   "metadata": {},
   "source": [
    "****"
   ]
  },
  {
   "cell_type": "markdown",
   "id": "81a6df32",
   "metadata": {},
   "source": [
    "## 2. Issue a request for the webpage using the requests library and display the HTTP response code for the request."
   ]
  },
  {
   "cell_type": "code",
   "execution_count": 2,
   "id": "e84f521c",
   "metadata": {},
   "outputs": [],
   "source": [
    "# Make request to Georgetown University Wikipedia page\n",
    "url = \"https://en.wikipedia.org/wiki/Georgetown_University\"\n",
    "\n",
    "\n",
    "# Original request was a 403 error. Research suggested adding this header so that Wikipedia doesn't assume we are a bot.\n",
    "headers = {\n",
    "    'User-Agent': 'Mozilla/5.0 (Windows NT 10.0; Win64; x64) AppleWebKit/537.36 (KHTML, like Gecko) Chrome/91.0.4472.124 Safari/537.36'\n",
    "}\n",
    "\n",
    "\n",
    "response = requests.get(url, headers=headers)"
   ]
  },
  {
   "cell_type": "markdown",
   "id": "4c3ed0a9",
   "metadata": {},
   "source": [
    "### 2.1. What is the response status code and what does it indicate?"
   ]
  },
  {
   "cell_type": "code",
   "execution_count": 3,
   "id": "830f789a",
   "metadata": {},
   "outputs": [
    {
     "name": "stdout",
     "output_type": "stream",
     "text": [
      "HTTP Response Code: 200\n",
      "Response Status: OK\n"
     ]
    }
   ],
   "source": [
    "# Display the response code\n",
    "print(f\"HTTP Response Code: {response.status_code}\")\n",
    "print(f\"Response Status: {response.reason}\")"
   ]
  },
  {
   "cell_type": "markdown",
   "id": "02eef36c",
   "metadata": {},
   "source": [
    "A response code of 200 means that the request was successful."
   ]
  },
  {
   "cell_type": "markdown",
   "id": "063ae268",
   "metadata": {},
   "source": [
    "### 2.2. What do status codes in the 400s mean?"
   ]
  },
  {
   "cell_type": "markdown",
   "id": "ff2429f6",
   "metadata": {},
   "source": [
    "Status codes in the 400's means that the error is caused by the client. Some example codes include:\n",
    "* `400 Bad Request`: The server would not process the request due to something on the server considered to be a client error.\n",
    "* `401 Unauthorized`: The request lacks valid authentication credentials.\n",
    "* `403 Forbidden`: The server understood the request but refused to process it. This was the initial error received before adding headers to the request."
   ]
  },
  {
   "cell_type": "markdown",
   "id": "84bd3104",
   "metadata": {},
   "source": [
    "### 2.3. What do status codes in the 500s mean?"
   ]
  },
  {
   "cell_type": "markdown",
   "id": "b4088105",
   "metadata": {},
   "source": [
    "Status codes in the 500's mean the server failed to fulfill the request. Some example codes include:\n",
    "* `500 Internal Server Error`: The server encountered an unexpected condition that prevented it from fulfilling the request.\n",
    "* `502 Bad Gateway`: A server was acting as a gateway or proxy that it received an invalid response from the upstream server.\n",
    "* `503 Service Unavailable`: The server is not ready to handle the request."
   ]
  },
  {
   "cell_type": "markdown",
   "id": "03719515",
   "metadata": {},
   "source": [
    "***"
   ]
  },
  {
   "cell_type": "markdown",
   "id": "dcae4327",
   "metadata": {},
   "source": [
    "## 3. Extract all raw text contained in paragraph tags on the web page. Store the results in single cell in a pandas DataFrame"
   ]
  },
  {
   "cell_type": "code",
   "execution_count": 4,
   "id": "2b11d179",
   "metadata": {},
   "outputs": [],
   "source": [
    "# Parse the HTML content\n",
    "soup = BeautifulSoup(response.content, 'html.parser')\n",
    "\n",
    "# Extract all paragraph text\n",
    "paragraphs = soup.find_all('p')\n",
    "paragraph_text = ' '.join([p.get_text() for p in paragraphs])\n",
    "\n",
    "# Create DataFrame with the extracted text\n",
    "text_df = pd.DataFrame({'raw_text': [paragraph_text]})"
   ]
  },
  {
   "cell_type": "markdown",
   "id": "916cdead",
   "metadata": {},
   "source": [
    "****"
   ]
  },
  {
   "cell_type": "markdown",
   "id": "73b4e205",
   "metadata": {},
   "source": [
    "## 4. Load and instantiate a spaCy NLP pipeline. Apply the pipeline to the scraped text to extract the named entities via named entity recognition (NER). Store the results in a new dataframe called ner_df with two columns: the extracted entities/text and its corresponding entity label."
   ]
  },
  {
   "cell_type": "markdown",
   "id": "c4f1f544",
   "metadata": {},
   "source": [
    "You might need to download the spaCy model. In either your terminal or anaconda prompt, run the following code: `python -m spacy download en_core_web_sm`"
   ]
  },
  {
   "cell_type": "code",
   "execution_count": 5,
   "id": "eeda9a0f",
   "metadata": {},
   "outputs": [],
   "source": [
    "# Load spaCy model\n",
    "nlpspacy = spacy.load(\"en_core_web_sm\")"
   ]
  },
  {
   "cell_type": "code",
   "execution_count": 6,
   "id": "263d3ab0",
   "metadata": {},
   "outputs": [],
   "source": [
    "# Process the text through the NLP pipeline\n",
    "doc = nlpspacy(paragraph_text)"
   ]
  },
  {
   "cell_type": "code",
   "execution_count": 7,
   "id": "a5a6402c",
   "metadata": {},
   "outputs": [
    {
     "data": {
      "application/vnd.microsoft.datawrangler.viewer.v0+json": {
       "columns": [
        {
         "name": "index",
         "rawType": "int64",
         "type": "integer"
        },
        {
         "name": "entity_text",
         "rawType": "object",
         "type": "string"
        },
        {
         "name": "entity_label",
         "rawType": "object",
         "type": "string"
        }
       ],
       "ref": "4ebf79e8-62ba-4067-8f83-322a9df34860",
       "rows": [
        [
         "0",
         "Georgetown University",
         "ORG"
        ],
        [
         "1",
         "Washington",
         "GPE"
        ],
        [
         "2",
         "D.C.",
         "GPE"
        ],
        [
         "3",
         "United States",
         "GPE"
        ],
        [
         "4",
         "Bishop John Carroll",
         "PERSON"
        ],
        [
         "5",
         "1789,[d",
         "CARDINAL"
        ],
        [
         "6",
         "Catholic",
         "NORP"
        ],
        [
         "7",
         "the United States",
         "GPE"
        ],
        [
         "8",
         "Washington",
         "GPE"
        ],
        [
         "9",
         "first",
         "ORDINAL"
        ],
        [
         "10",
         "eleven",
         "CARDINAL"
        ],
        [
         "11",
         "Georgetown",
         "GPE"
        ],
        [
         "12",
         "the Potomac River",
         "LOC"
        ],
        [
         "13",
         "Healy Hall",
         "PERSON"
        ],
        [
         "14",
         "R1: Doctoral Universities",
         "WORK_OF_ART"
        ],
        [
         "15",
         "forty-eight",
         "DATE"
        ],
        [
         "16",
         "7,500",
         "CARDINAL"
        ],
        [
         "17",
         "10,000",
         "CARDINAL"
        ],
        [
         "18",
         "more than 135",
         "CARDINAL"
        ],
        [
         "19",
         "Hoyas",
         "ORG"
        ],
        [
         "20",
         "the Big East Conference",
         "ORG"
        ],
        [
         "21",
         "32",
         "CARDINAL"
        ],
        [
         "22",
         "Rhodes Scholars",
         "WORK_OF_ART"
        ],
        [
         "23",
         "46",
         "CARDINAL"
        ],
        [
         "24",
         "Marshall Scholars",
         "PERSON"
        ],
        [
         "25",
         "33",
         "CARDINAL"
        ],
        [
         "26",
         "Truman Scholars",
         "PERSON"
        ],
        [
         "27",
         "565",
         "CARDINAL"
        ],
        [
         "28",
         "Fulbright Scholars",
         "PERSON"
        ],
        [
         "29",
         "at least 10",
         "CARDINAL"
        ],
        [
         "30",
         "26",
         "CARDINAL"
        ],
        [
         "31",
         "U.S.",
         "GPE"
        ],
        [
         "32",
         "2",
         "CARDINAL"
        ],
        [
         "33",
         "U.S. Supreme Court",
         "ORG"
        ],
        [
         "34",
         "2",
         "CARDINAL"
        ],
        [
         "35",
         "U.S.",
         "GPE"
        ],
        [
         "36",
         "116",
         "CARDINAL"
        ],
        [
         "37",
         "the United States Congress",
         "ORG"
        ],
        [
         "38",
         "26",
         "CARDINAL"
        ],
        [
         "39",
         "more than a dozen",
         "CARDINAL"
        ],
        [
         "40",
         "Georgetown",
         "ORG"
        ],
        [
         "41",
         "U.S.",
         "GPE"
        ],
        [
         "42",
         "at least 92",
         "CARDINAL"
        ],
        [
         "43",
         "the United States",
         "GPE"
        ],
        [
         "44",
         "American",
         "NORP"
        ],
        [
         "45",
         "1634",
         "DATE"
        ],
        [
         "46",
         "Jesuit",
         "NORP"
        ],
        [
         "47",
         "England",
         "GPE"
        ],
        [
         "48",
         "the Province of",
         "GPE"
        ],
        [
         "49",
         "Maryland",
         "GPE"
        ]
       ],
       "shape": {
        "columns": 2,
        "rows": 1245
       }
      },
      "text/html": [
       "<div>\n",
       "<style scoped>\n",
       "    .dataframe tbody tr th:only-of-type {\n",
       "        vertical-align: middle;\n",
       "    }\n",
       "\n",
       "    .dataframe tbody tr th {\n",
       "        vertical-align: top;\n",
       "    }\n",
       "\n",
       "    .dataframe thead th {\n",
       "        text-align: right;\n",
       "    }\n",
       "</style>\n",
       "<table border=\"1\" class=\"dataframe\">\n",
       "  <thead>\n",
       "    <tr style=\"text-align: right;\">\n",
       "      <th></th>\n",
       "      <th>entity_text</th>\n",
       "      <th>entity_label</th>\n",
       "    </tr>\n",
       "  </thead>\n",
       "  <tbody>\n",
       "    <tr>\n",
       "      <th>0</th>\n",
       "      <td>Georgetown University</td>\n",
       "      <td>ORG</td>\n",
       "    </tr>\n",
       "    <tr>\n",
       "      <th>1</th>\n",
       "      <td>Washington</td>\n",
       "      <td>GPE</td>\n",
       "    </tr>\n",
       "    <tr>\n",
       "      <th>2</th>\n",
       "      <td>D.C.</td>\n",
       "      <td>GPE</td>\n",
       "    </tr>\n",
       "    <tr>\n",
       "      <th>3</th>\n",
       "      <td>United States</td>\n",
       "      <td>GPE</td>\n",
       "    </tr>\n",
       "    <tr>\n",
       "      <th>4</th>\n",
       "      <td>Bishop John Carroll</td>\n",
       "      <td>PERSON</td>\n",
       "    </tr>\n",
       "    <tr>\n",
       "      <th>...</th>\n",
       "      <td>...</td>\n",
       "      <td>...</td>\n",
       "    </tr>\n",
       "    <tr>\n",
       "      <th>1240</th>\n",
       "      <td>Andrew Morrison</td>\n",
       "      <td>PERSON</td>\n",
       "    </tr>\n",
       "    <tr>\n",
       "      <th>1241</th>\n",
       "      <td>RaMell</td>\n",
       "      <td>PERSON</td>\n",
       "    </tr>\n",
       "    <tr>\n",
       "      <th>1242</th>\n",
       "      <td>Tony Award-winning</td>\n",
       "      <td>PERSON</td>\n",
       "    </tr>\n",
       "    <tr>\n",
       "      <th>1243</th>\n",
       "      <td>John Guare</td>\n",
       "      <td>PERSON</td>\n",
       "    </tr>\n",
       "    <tr>\n",
       "      <th>1244</th>\n",
       "      <td>Jack</td>\n",
       "      <td>PERSON</td>\n",
       "    </tr>\n",
       "  </tbody>\n",
       "</table>\n",
       "<p>1245 rows × 2 columns</p>\n",
       "</div>"
      ],
      "text/plain": [
       "                entity_text entity_label\n",
       "0     Georgetown University          ORG\n",
       "1                Washington          GPE\n",
       "2                      D.C.          GPE\n",
       "3             United States          GPE\n",
       "4       Bishop John Carroll       PERSON\n",
       "...                     ...          ...\n",
       "1240        Andrew Morrison       PERSON\n",
       "1241                 RaMell       PERSON\n",
       "1242     Tony Award-winning       PERSON\n",
       "1243             John Guare       PERSON\n",
       "1244                   Jack       PERSON\n",
       "\n",
       "[1245 rows x 2 columns]"
      ]
     },
     "execution_count": 7,
     "metadata": {},
     "output_type": "execute_result"
    }
   ],
   "source": [
    "# Extract the named entities\n",
    "entities = [(ent.text, ent.label_) for ent in doc.ents]\n",
    "\n",
    "# Create a dataframe with named entities\n",
    "ner_df = pd.DataFrame(entities, columns = ['entity_text', 'entity_label'])\n",
    "\n",
    "ner_df"
   ]
  },
  {
   "cell_type": "markdown",
   "id": "fa99c9f0",
   "metadata": {},
   "source": [
    "****"
   ]
  },
  {
   "cell_type": "markdown",
   "id": "d54eed75",
   "metadata": {},
   "source": [
    "## 5. Print in descending order the top 10 most frequently mentioned people and the number of times each is mentioned. Print in descending order the top 10 most frequently mentioned organizations and the number of times each is mentioned. "
   ]
  },
  {
   "cell_type": "code",
   "execution_count": 8,
   "id": "de8c824b",
   "metadata": {},
   "outputs": [
    {
     "data": {
      "application/vnd.microsoft.datawrangler.viewer.v0+json": {
       "columns": [
        {
         "name": "entity_text",
         "rawType": "object",
         "type": "string"
        },
        {
         "name": "0",
         "rawType": "int64",
         "type": "integer"
        }
       ],
       "ref": "60d93130-49fe-4338-bb94-06a17f17cf01",
       "rows": [
        [
         "Healy Hall",
         "3"
        ],
        [
         "ROTC",
         "3"
        ],
        [
         "Laura Chinchilla",
         "2"
        ],
        [
         "Fulbright Scholars",
         "2"
        ],
        [
         "Antonin Scalia",
         "2"
        ],
        [
         "Dahlgren Quadrangle",
         "2"
        ],
        [
         "George Tenet",
         "2"
        ],
        [
         "Henry Kissinger",
         "2"
        ],
        [
         "Hilltoss",
         "2"
        ],
        [
         "Barack Obama",
         "2"
        ]
       ],
       "shape": {
        "columns": 1,
        "rows": 10
       }
      },
      "text/plain": [
       "entity_text\n",
       "Healy Hall             3\n",
       "ROTC                   3\n",
       "Laura Chinchilla       2\n",
       "Fulbright Scholars     2\n",
       "Antonin Scalia         2\n",
       "Dahlgren Quadrangle    2\n",
       "George Tenet           2\n",
       "Henry Kissinger        2\n",
       "Hilltoss               2\n",
       "Barack Obama           2\n",
       "dtype: int64"
      ]
     },
     "execution_count": 8,
     "metadata": {},
     "output_type": "execute_result"
    }
   ],
   "source": [
    "# Print the top 10 most frequently mentioned people and the number of times each is mentioned\n",
    "names_top10 = ner_df[ner_df['entity_label'] == 'PERSON'].groupby('entity_text').size().sort_values(ascending = False).head(10)\n",
    "names_top10"
   ]
  },
  {
   "cell_type": "code",
   "execution_count": 9,
   "id": "90f266a7",
   "metadata": {},
   "outputs": [
    {
     "data": {
      "application/vnd.microsoft.datawrangler.viewer.v0+json": {
       "columns": [
        {
         "name": "entity_text",
         "rawType": "object",
         "type": "string"
        },
        {
         "name": "0",
         "rawType": "int64",
         "type": "integer"
        }
       ],
       "ref": "1090474b-431e-46d4-a795-b1d732ba5f30",
       "rows": [
        [
         "Georgetown",
         "58"
        ],
        [
         "Georgetown University",
         "13"
        ],
        [
         "SFS",
         "6"
        ],
        [
         "the School of Foreign Service",
         "6"
        ],
        [
         "NCAA",
         "5"
        ],
        [
         "the McDonough School of Business",
         "4"
        ],
        [
         "CIA",
         "4"
        ],
        [
         "the Law Center",
         "3"
        ],
        [
         "the School of Continuing Studies",
         "3"
        ],
        [
         "State",
         "3"
        ]
       ],
       "shape": {
        "columns": 1,
        "rows": 10
       }
      },
      "text/plain": [
       "entity_text\n",
       "Georgetown                          58\n",
       "Georgetown University               13\n",
       "SFS                                  6\n",
       "the School of Foreign Service        6\n",
       "NCAA                                 5\n",
       "the McDonough School of Business     4\n",
       "CIA                                  4\n",
       "the Law Center                       3\n",
       "the School of Continuing Studies     3\n",
       "State                                3\n",
       "dtype: int64"
      ]
     },
     "execution_count": 9,
     "metadata": {},
     "output_type": "execute_result"
    }
   ],
   "source": [
    "# Print the top 10 most frequently mentioned organizations and the number of times each is mentioned\n",
    "orgs_top10 = ner_df[ner_df['entity_label'] == 'ORG'].groupby('entity_text').size().sort_values(ascending = False).head(10)\n",
    "orgs_top10"
   ]
  },
  {
   "cell_type": "markdown",
   "id": "0c40b9b6",
   "metadata": {},
   "source": [
    "## 6. Do #3, #4, and #5 again but instead extract all text contained within anchor `<a>` tags on the web page. Do the results differ from the results in #5?"
   ]
  },
  {
   "cell_type": "code",
   "execution_count": 10,
   "id": "8a168292",
   "metadata": {},
   "outputs": [],
   "source": [
    "# Extract all hyperlink text\n",
    "hyperlinks = soup.find_all('a')\n",
    "hyperlinks_text = ' '.join([a.get_text() for a in hyperlinks])\n",
    "\n",
    "# Create DataFrame with the extracted text\n",
    "hyperlinks_df = pd.DataFrame({'raw_text': [hyperlinks_text]})"
   ]
  },
  {
   "cell_type": "code",
   "execution_count": 11,
   "id": "b4b06db2",
   "metadata": {},
   "outputs": [],
   "source": [
    "# Process the text through the NLP pipeline\n",
    "doc_a = nlpspacy(hyperlinks_text)"
   ]
  },
  {
   "cell_type": "code",
   "execution_count": 12,
   "id": "744f1fdb",
   "metadata": {},
   "outputs": [
    {
     "data": {
      "application/vnd.microsoft.datawrangler.viewer.v0+json": {
       "columns": [
        {
         "name": "index",
         "rawType": "int64",
         "type": "integer"
        },
        {
         "name": "entity_text",
         "rawType": "object",
         "type": "string"
        },
        {
         "name": "entity_label",
         "rawType": "object",
         "type": "string"
        }
       ],
       "ref": "ceee8d70-83bc-44dc-9b0d-c14a82fd874e",
       "rows": [
        [
         "0",
         "Contents Current",
         "ORG"
        ],
        [
         "1",
         "Community",
         "ORG"
        ],
        [
         "2",
         "Upload",
         "ORG"
        ],
        [
         "3",
         "1",
         "CARDINAL"
        ],
        [
         "4",
         "1.1",
         "CARDINAL"
        ],
        [
         "5",
         "1.2\n19th century",
         "DATE"
        ],
        [
         "6",
         "1.3\n20th century",
         "DATE"
        ],
        [
         "7",
         "1.4",
         "CARDINAL"
        ],
        [
         "8",
         "21st century",
         "DATE"
        ],
        [
         "9",
         "1.5",
         "CARDINAL"
        ],
        [
         "10",
         "2",
         "CARDINAL"
        ],
        [
         "11",
         "2.1",
         "CARDINAL"
        ],
        [
         "12",
         "2.2",
         "CARDINAL"
        ],
        [
         "13",
         "2.3",
         "CARDINAL"
        ],
        [
         "14",
         "2.3.1",
         "CARDINAL"
        ],
        [
         "15",
         "3",
         "CARDINAL"
        ],
        [
         "16",
         "3.1",
         "CARDINAL"
        ],
        [
         "17",
         "3.3",
         "CARDINAL"
        ],
        [
         "18",
         "3.4",
         "CARDINAL"
        ],
        [
         "19",
         "Qatar",
         "GPE"
        ],
        [
         "20",
         "3.5",
         "CARDINAL"
        ],
        [
         "21",
         "4",
         "CARDINAL"
        ],
        [
         "22",
         "4.1",
         "CARDINAL"
        ],
        [
         "23",
         "4.2",
         "CARDINAL"
        ],
        [
         "24",
         "4.3",
         "CARDINAL"
        ],
        [
         "25",
         "4.4",
         "CARDINAL"
        ],
        [
         "26",
         "Greek",
         "NORP"
        ],
        [
         "27",
         "5",
         "CARDINAL"
        ],
        [
         "28",
         "6",
         "CARDINAL"
        ],
        [
         "29",
         "6.1",
         "CARDINAL"
        ],
        [
         "30",
         "6.2",
         "CARDINAL"
        ],
        [
         "31",
         "8",
         "CARDINAL"
        ],
        [
         "32",
         "9",
         "CARDINAL"
        ],
        [
         "33",
         "10",
         "CARDINAL"
        ],
        [
         "34",
         "বাংলা Беларуская Български Català Čeština",
         "ORG"
        ],
        [
         "35",
         "Euskara",
         "PERSON"
        ],
        [
         "36",
         "Français",
         "PERSON"
        ],
        [
         "37",
         "Հայերեն Hrvatski Bahasa",
         "PERSON"
        ],
        [
         "38",
         "Lietuvių Magyar",
         "PERSON"
        ],
        [
         "39",
         "Nederlands",
         "GPE"
        ],
        [
         "40",
         "Norsk",
         "PRODUCT"
        ],
        [
         "41",
         "Oʻzbekcha",
         "GPE"
        ],
        [
         "42",
         "Papiamentu Polski Português Română Русский Simple",
         "ORG"
        ],
        [
         "43",
         "English",
         "LANGUAGE"
        ],
        [
         "44",
         "Српски",
         "GPE"
        ],
        [
         "45",
         "Suomi Svenska",
         "ORG"
        ],
        [
         "46",
         "Tagalog",
         "LANGUAGE"
        ],
        [
         "47",
         "Türkçe Українська",
         "PERSON"
        ],
        [
         "48",
         "Tiếng Việt 吴语",
         "ORG"
        ],
        [
         "49",
         "Article Talk Read Edit View history Read Edit View",
         "LAW"
        ]
       ],
       "shape": {
        "columns": 2,
        "rows": 1693
       }
      },
      "text/html": [
       "<div>\n",
       "<style scoped>\n",
       "    .dataframe tbody tr th:only-of-type {\n",
       "        vertical-align: middle;\n",
       "    }\n",
       "\n",
       "    .dataframe tbody tr th {\n",
       "        vertical-align: top;\n",
       "    }\n",
       "\n",
       "    .dataframe thead th {\n",
       "        text-align: right;\n",
       "    }\n",
       "</style>\n",
       "<table border=\"1\" class=\"dataframe\">\n",
       "  <thead>\n",
       "    <tr style=\"text-align: right;\">\n",
       "      <th></th>\n",
       "      <th>entity_text</th>\n",
       "      <th>entity_label</th>\n",
       "    </tr>\n",
       "  </thead>\n",
       "  <tbody>\n",
       "    <tr>\n",
       "      <th>0</th>\n",
       "      <td>Contents Current</td>\n",
       "      <td>ORG</td>\n",
       "    </tr>\n",
       "    <tr>\n",
       "      <th>1</th>\n",
       "      <td>Community</td>\n",
       "      <td>ORG</td>\n",
       "    </tr>\n",
       "    <tr>\n",
       "      <th>2</th>\n",
       "      <td>Upload</td>\n",
       "      <td>ORG</td>\n",
       "    </tr>\n",
       "    <tr>\n",
       "      <th>3</th>\n",
       "      <td>1</td>\n",
       "      <td>CARDINAL</td>\n",
       "    </tr>\n",
       "    <tr>\n",
       "      <th>4</th>\n",
       "      <td>1.1</td>\n",
       "      <td>CARDINAL</td>\n",
       "    </tr>\n",
       "    <tr>\n",
       "      <th>...</th>\n",
       "      <td>...</td>\n",
       "      <td>...</td>\n",
       "    </tr>\n",
       "    <tr>\n",
       "      <th>1688</th>\n",
       "      <td>June 2020 Commons</td>\n",
       "      <td>DATE</td>\n",
       "    </tr>\n",
       "    <tr>\n",
       "      <th>1689</th>\n",
       "      <td>Wikidata Articles</td>\n",
       "      <td>ORG</td>\n",
       "    </tr>\n",
       "    <tr>\n",
       "      <th>1690</th>\n",
       "      <td>Kartographer</td>\n",
       "      <td>PERSON</td>\n",
       "    </tr>\n",
       "    <tr>\n",
       "      <th>1691</th>\n",
       "      <td>4.0</td>\n",
       "      <td>CARDINAL</td>\n",
       "    </tr>\n",
       "    <tr>\n",
       "      <th>1692</th>\n",
       "      <td>Mobile</td>\n",
       "      <td>GPE</td>\n",
       "    </tr>\n",
       "  </tbody>\n",
       "</table>\n",
       "<p>1693 rows × 2 columns</p>\n",
       "</div>"
      ],
      "text/plain": [
       "            entity_text entity_label\n",
       "0      Contents Current          ORG\n",
       "1             Community          ORG\n",
       "2                Upload          ORG\n",
       "3                     1     CARDINAL\n",
       "4                   1.1     CARDINAL\n",
       "...                 ...          ...\n",
       "1688  June 2020 Commons         DATE\n",
       "1689  Wikidata Articles          ORG\n",
       "1690       Kartographer       PERSON\n",
       "1691                4.0     CARDINAL\n",
       "1692             Mobile          GPE\n",
       "\n",
       "[1693 rows x 2 columns]"
      ]
     },
     "execution_count": 12,
     "metadata": {},
     "output_type": "execute_result"
    }
   ],
   "source": [
    "# Extract the named entities\n",
    "entities_a = [(ent.text, ent.label_) for ent in doc_a.ents]\n",
    "\n",
    "# Create a dataframe with named entities\n",
    "ner_df_a = pd.DataFrame(entities_a, columns = ['entity_text', 'entity_label'])\n",
    "\n",
    "ner_df_a"
   ]
  },
  {
   "cell_type": "code",
   "execution_count": 13,
   "id": "9677da95",
   "metadata": {},
   "outputs": [
    {
     "name": "stdout",
     "output_type": "stream",
     "text": [
      "                       Using <a>  Using <p>\n",
      "entity_text                                \n",
      "Antonin Scalia               3.0        2.0\n",
      "Articles                     3.0        NaN\n",
      "Barack Obama                 NaN        2.0\n",
      "Bill Clinton                 2.0        NaN\n",
      "Chris Sacca                  2.0        NaN\n",
      "Dahlgren Quadrangle          NaN        2.0\n",
      "David Malpass                2.0        NaN\n",
      "Edward Douglass White        2.0        NaN\n",
      "Fulbright Scholars           NaN        2.0\n",
      "George Tenet                 NaN        2.0\n",
      "George Washington            2.0        NaN\n",
      "Healy Hall                   NaN        3.0\n",
      "Henry Kissinger              2.0        2.0\n",
      "Hilltoss                     NaN        2.0\n",
      "James Madison                2.0        NaN\n",
      "Laura Chinchilla             NaN        2.0\n",
      "Martha                       2.0        NaN\n",
      "ROTC                         NaN        3.0\n"
     ]
    }
   ],
   "source": [
    "# Print the top 10 most frequently mentioned people and the number of times each is mentioned\n",
    "names_top10_a = ner_df_a[ner_df_a['entity_label'] == 'PERSON'].groupby('entity_text').size().sort_values(ascending = False).head(10)\n",
    "\n",
    "# Create a DataFrame with both series\n",
    "names_df = pd.DataFrame({\n",
    "    'Using <a>': names_top10_a,\n",
    "    'Using <p>': names_top10\n",
    "})\n",
    "\n",
    "print(names_df)"
   ]
  },
  {
   "cell_type": "markdown",
   "id": "d9651404",
   "metadata": {},
   "source": [
    "Using `<a>` resulted in better named entity recognition with the top 10 resulting lower instances of misclassified entities. On the other hand, `<p>` had a higher presence of misclassified entities."
   ]
  },
  {
   "cell_type": "code",
   "execution_count": 14,
   "id": "0597c449",
   "metadata": {},
   "outputs": [
    {
     "name": "stdout",
     "output_type": "stream",
     "text": [
      "                                  Using <a>  Using <p>\n",
      "entity_text                                           \n",
      "CA                                      3.0        NaN\n",
      "CIA                                     NaN        4.0\n",
      "Georgetown                             16.0       58.0\n",
      "Georgetown University                  26.0       13.0\n",
      "Georgetown University Law Center        3.0        NaN\n",
      "Hoya                                    6.0        NaN\n",
      "ISSN                                    5.0        NaN\n",
      "ISSN 0362-4331                          4.0        NaN\n",
      "NCAA                                    3.0        5.0\n",
      "O'Neill & Williams                      3.0        NaN\n",
      "SFS                                     NaN        6.0\n",
      "State                                   NaN        3.0\n",
      "U.S. News & World Report                7.0        NaN\n",
      "the Law Center                          NaN        3.0\n",
      "the McDonough School of Business        NaN        4.0\n",
      "the School of Continuing Studies        NaN        3.0\n",
      "the School of Foreign Service           NaN        6.0\n"
     ]
    }
   ],
   "source": [
    "# Print the top 10 most frequently mentioned organizations and the number of times each is mentioned\n",
    "orgs_top10_a = ner_df_a[ner_df_a['entity_label'] == 'ORG'].groupby('entity_text').size().sort_values(ascending = False).head(10)\n",
    "\n",
    "# Create a DataFrame with both series\n",
    "orgs_df = pd.DataFrame({\n",
    "    'Using <a>': orgs_top10_a,\n",
    "    'Using <p>': orgs_top10\n",
    "})\n",
    "\n",
    "print(orgs_df)"
   ]
  },
  {
   "cell_type": "markdown",
   "id": "acb5d2c3",
   "metadata": {},
   "source": [
    "The top 10 using `<a>` resulted in lower counts and higher instance of misclassified entities. The `<p>` top 10 resulted in a higher volume with better named entity recognition."
   ]
  },
  {
   "cell_type": "markdown",
   "id": "cac93c4c",
   "metadata": {},
   "source": [
    "****"
   ]
  },
  {
   "cell_type": "markdown",
   "id": "67416dae",
   "metadata": {},
   "source": [
    "## 7. Briefly explain web scraping and named entity recognition/extraction in a way that a non-technical co-worker would understand. "
   ]
  },
  {
   "cell_type": "markdown",
   "id": "d28b5050",
   "metadata": {},
   "source": [
    "**Web scraping** is used for extracting data from websites. It's like having a digital assistance that reads and collects information from websites for you. Think of it like reviewing and highlighting all the importants of a document, but a computer does it for you and saves it in an organized format.\n",
    "\n",
    "**Named entity recognition (NER)** adds an extra layer to the highlighter mentioned before and categorizes important names and terms. Whan you read a document, you can recognize that 'George Washington' is person versus 'Georgetown University' is an institution. NER gives a computer the same capability. It scans through the text and identifies different categories of important information."
   ]
  }
 ],
 "metadata": {
  "kernelspec": {
   "display_name": "base",
   "language": "python",
   "name": "python3"
  },
  "language_info": {
   "codemirror_mode": {
    "name": "ipython",
    "version": 3
   },
   "file_extension": ".py",
   "mimetype": "text/x-python",
   "name": "python",
   "nbconvert_exporter": "python",
   "pygments_lexer": "ipython3",
   "version": "3.13.5"
  }
 },
 "nbformat": 4,
 "nbformat_minor": 5
}
